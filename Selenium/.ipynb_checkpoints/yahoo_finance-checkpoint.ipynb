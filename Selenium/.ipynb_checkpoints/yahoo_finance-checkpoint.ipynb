{
 "cells": [
  {
   "cell_type": "markdown",
   "metadata": {},
   "source": [
    "# Scraping Yahoo Finance"
   ]
  },
  {
   "cell_type": "markdown",
   "metadata": {},
   "source": [
    "## Practice Programming Assignment"
   ]
  },
  {
   "cell_type": "markdown",
   "metadata": {},
   "source": [
    "In this assignment we are required to look at historical data for 30 companies from [Dow Jones Index](https://en.wikipedia.org/wiki/Dow_Jones_Industrial_Average). Tickers for companies from the index can be found in *dow_jones_tickers.txt*. For each company we should get historical daily stock prices for 2019 from https://finance.yahoo.com/, and then use the data to answer the questions you will find below. "
   ]
  },
  {
   "cell_type": "markdown",
   "metadata": {},
   "source": [
    "### Coding part"
   ]
  },
  {
   "cell_type": "code",
   "execution_count": 1,
   "metadata": {},
   "outputs": [
    {
     "name": "stderr",
     "output_type": "stream",
     "text": [
      "/usr/lib/python3/dist-packages/requests/__init__.py:89: RequestsDependencyWarning: urllib3 (1.26.10) or chardet (3.0.4) doesn't match a supported version!\n",
      "  warnings.warn(\"urllib3 ({}) or chardet ({}) doesn't match a supported \"\n"
     ]
    }
   ],
   "source": [
    "# you can start your web-scraping here\n",
    "\n",
    "import requests\n",
    "import re\n",
    "from bs4 import BeautifulSoup\n",
    "import time\n",
    "from selenium import webdriver\n",
    "from selenium.webdriver.chrome.service import Service\n",
    "from webdriver_manager.chrome import ChromeDriverManager\n",
    "from selenium.webdriver.chrome.options import Options\n",
    "from selenium.webdriver.common.by import By\n",
    "from selenium.webdriver.common.action_chains import ActionChains\n",
    "from selenium.webdriver.common.keys import Keys\n",
    "from selenium.webdriver.support.select import Select\n",
    "from selenium.webdriver.support.ui import WebDriverWait   \n",
    "from selenium.webdriver.support import expected_conditions as EC\n",
    "\n",
    "\n",
    "\n",
    "\n",
    "# options = Options()\n",
    "# options.add_argument('--headless')\n",
    "# driver = webdriver.Chrome(service=Service(ChromeDriverManager().install()), options=options)"
   ]
  },
  {
   "cell_type": "code",
   "execution_count": 2,
   "metadata": {},
   "outputs": [],
   "source": [
    "dow_jones_companies = []\n",
    "\n",
    "with open('dow_jones_tickers.txt') as f:\n",
    "    for ticker in f:\n",
    "        dow_jones_companies.append(ticker.strip())"
   ]
  },
  {
   "cell_type": "markdown",
   "metadata": {},
   "source": [
    "#### To begin with, we will write the beginning of the parser, where it will go to the page we need and do all the actions we need (scroll, click, upload information, etc.)"
   ]
  },
  {
   "cell_type": "code",
   "execution_count": 5,
   "metadata": {},
   "outputs": [
    {
     "name": "stdout",
     "output_type": "stream",
     "text": [
      "\n"
     ]
    },
    {
     "name": "stderr",
     "output_type": "stream",
     "text": [
      "[WDM] - ====== WebDriver manager ======\n"
     ]
    },
    {
     "name": "stdout",
     "output_type": "stream",
     "text": [
      "2022-07-12 13:56:41,951 INFO ====== WebDriver manager ======\n"
     ]
    },
    {
     "name": "stderr",
     "output_type": "stream",
     "text": [
      "[WDM] - Current google-chrome version is 103.0.5060\n"
     ]
    },
    {
     "name": "stdout",
     "output_type": "stream",
     "text": [
      "2022-07-12 13:56:42,302 INFO Current google-chrome version is 103.0.5060\n"
     ]
    },
    {
     "name": "stderr",
     "output_type": "stream",
     "text": [
      "[WDM] - Get LATEST chromedriver version for 103.0.5060 google-chrome\n"
     ]
    },
    {
     "name": "stdout",
     "output_type": "stream",
     "text": [
      "2022-07-12 13:56:42,304 INFO Get LATEST chromedriver version for 103.0.5060 google-chrome\n"
     ]
    },
    {
     "name": "stderr",
     "output_type": "stream",
     "text": [
      "[WDM] - About to download new driver from https://chromedriver.storage.googleapis.com/103.0.5060.53/chromedriver_linux64.zip\n"
     ]
    },
    {
     "name": "stdout",
     "output_type": "stream",
     "text": [
      "2022-07-12 13:56:42,855 INFO About to download new driver from https://chromedriver.storage.googleapis.com/103.0.5060.53/chromedriver_linux64.zip\n"
     ]
    },
    {
     "name": "stderr",
     "output_type": "stream",
     "text": [
      "[WDM] - Driver has been saved in cache [/home/matu/.wdm/drivers/chromedriver/linux64/103.0.5060.53]\n"
     ]
    },
    {
     "name": "stdout",
     "output_type": "stream",
     "text": [
      "2022-07-12 13:56:50,198 INFO Driver has been saved in cache [/home/matu/.wdm/drivers/chromedriver/linux64/103.0.5060.53]\n",
      "AXP Oct 03, 2019 0.43 Dividend\n",
      "AXP Jul 03, 2019 0.39 Dividend\n",
      "AXP Apr 04, 2019 0.39 Dividend\n",
      "AXP Jan 03, 2019 0.39 Dividend\n",
      "AAPL Nov 07, 2019 0.1925 Dividend\n",
      "AAPL Aug 09, 2019 0.1925 Dividend\n",
      "AAPL May 10, 2019 0.1925 Dividend\n",
      "AAPL Feb 08, 2019 0.1825 Dividend\n",
      "BA Nov 07, 2019 2.055 Dividend\n",
      "BA Aug 08, 2019 2.055 Dividend\n",
      "BA May 09, 2019 2.055 Dividend\n",
      "BA Feb 07, 2019 2.055 Dividend\n",
      "CAT Oct 18, 2019 1.03 Dividend\n",
      "CAT Jul 19, 2019 1.03 Dividend\n",
      "CAT Apr 18, 2019 0.86 Dividend\n",
      "CAT Jan 18, 2019 0.86 Dividend\n",
      "CSCO Oct 03, 2019 0.35 Dividend\n",
      "CSCO Jul 03, 2019 0.35 Dividend\n",
      "CSCO Apr 04, 2019 0.35 Dividend\n",
      "CSCO Jan 03, 2019 0.33 Dividend\n",
      "CVX Nov 15, 2019 1.19 Dividend\n",
      "CVX Aug 16, 2019 1.19 Dividend\n",
      "CVX May 16, 2019 1.19 Dividend\n",
      "CVX Feb 14, 2019 1.19 Dividend\n",
      "XOM Nov 08, 2019 0.87 Dividend\n",
      "XOM Aug 12, 2019 0.87 Dividend\n",
      "XOM May 10, 2019 0.87 Dividend\n",
      "XOM Feb 08, 2019 0.82 Dividend\n",
      "GS Nov 29, 2019 1.25 Dividend\n",
      "GS Aug 29, 2019 1.25 Dividend\n",
      "GS May 29, 2019 0.85 Dividend\n",
      "GS Feb 27, 2019 0.8 Dividend\n",
      "HD Dec 04, 2019 1.36 Dividend\n",
      "HD Sep 04, 2019 1.36 Dividend\n",
      "HD Jun 05, 2019 1.36 Dividend\n",
      "HD Mar 13, 2019 1.36 Dividend\n",
      "IBM Nov 07, 2019 1.548757 Dividend\n",
      "IBM Aug 08, 2019 1.548757 Dividend\n",
      "IBM May 09, 2019 1.548757 Dividend\n",
      "IBM Feb 07, 2019 1.500956 Dividend\n",
      "INTC Nov 06, 2019 0.315 Dividend\n",
      "INTC Aug 06, 2019 0.315 Dividend\n",
      "INTC May 06, 2019 0.315 Dividend\n",
      "INTC Feb 06, 2019 0.315 Dividend\n",
      "JNJ Nov 25, 2019 0.95 Dividend\n",
      "JNJ Aug 26, 2019 0.95 Dividend\n",
      "JNJ May 24, 2019 0.95 Dividend\n",
      "JNJ Feb 25, 2019 0.9 Dividend\n",
      "KO Nov 29, 2019 0.4 Dividend\n",
      "KO Sep 13, 2019 0.4 Dividend\n",
      "KO Jun 13, 2019 0.4 Dividend\n",
      "KO Mar 14, 2019 0.4 Dividend\n",
      "JPM Oct 03, 2019 0.9 Dividend\n",
      "JPM Jul 03, 2019 0.8 Dividend\n",
      "JPM Apr 04, 2019 0.8 Dividend\n",
      "JPM Jan 03, 2019 0.8 Dividend\n",
      "MCD Nov 29, 2019 1.25 Dividend\n",
      "MCD Aug 30, 2019 1.16 Dividend\n",
      "MCD May 31, 2019 1.16 Dividend\n",
      "MCD Feb 28, 2019 1.16 Dividend\n",
      "MMM Nov 21, 2019 1.44 Dividend\n",
      "MMM Aug 15, 2019 1.44 Dividend\n",
      "MMM May 23, 2019 1.44 Dividend\n",
      "MMM Feb 14, 2019 1.44 Dividend\n",
      "MRK Dec 13, 2019 0.582061 Dividend\n",
      "MRK Sep 13, 2019 0.524809 Dividend\n",
      "MRK Jun 14, 2019 0.524809 Dividend\n",
      "MRK Mar 14, 2019 0.524809 Dividend\n",
      "MSFT Nov 20, 2019 0.51 Dividend\n",
      "MSFT Aug 14, 2019 0.46 Dividend\n",
      "MSFT May 15, 2019 0.46 Dividend\n",
      "MSFT Feb 20, 2019 0.46 Dividend\n",
      "NKE Nov 29, 2019 0.245 Dividend\n",
      "NKE Aug 30, 2019 0.22 Dividend\n",
      "NKE May 31, 2019 0.22 Dividend\n",
      "NKE Mar 01, 2019 0.22 Dividend\n",
      "PFE Nov 07, 2019 0.341556 Dividend\n",
      "PFE Aug 01, 2019 0.341556 Dividend\n",
      "PFE May 09, 2019 0.341556 Dividend\n",
      "PFE Jan 31, 2019 0.341556 Dividend\n",
      "PG Oct 17, 2019 0.746 Dividend\n",
      "PG Jul 18, 2019 0.746 Dividend\n",
      "PG Apr 17, 2019 0.746 Dividend\n",
      "PG Jan 17, 2019 0.717 Dividend\n",
      "TRV Dec 09, 2019 0.82 Dividend\n",
      "TRV Sep 09, 2019 0.82 Dividend\n",
      "TRV Jun 07, 2019 0.82 Dividend\n",
      "TRV Mar 08, 2019 0.77 Dividend\n",
      "UNH Dec 06, 2019 1.08 Dividend\n",
      "UNH Sep 13, 2019 1.08 Dividend\n",
      "UNH Jun 14, 2019 1.08 Dividend\n",
      "UNH Mar 08, 2019 0.9 Dividend\n",
      "RTX Nov 14, 2019 0.462555 Dividend\n",
      "RTX Aug 15, 2019 0.462555 Dividend\n",
      "RTX May 16, 2019 0.462555 Dividend\n",
      "RTX Feb 14, 2019 0.462555 Dividend\n",
      "VZ Oct 09, 2019 0.615 Dividend\n",
      "VZ Jul 09, 2019 0.603 Dividend\n",
      "VZ Apr 09, 2019 0.603 Dividend\n",
      "VZ Jan 09, 2019 0.603 Dividend\n",
      "V Nov 14, 2019 0.3 Dividend\n",
      "V Aug 15, 2019 0.25 Dividend\n",
      "V May 16, 2019 0.25 Dividend\n",
      "V Feb 14, 2019 0.25 Dividend\n",
      "WBA Nov 15, 2019 0.458 Dividend\n",
      "WBA Aug 19, 2019 0.458 Dividend\n",
      "WBA May 17, 2019 0.44 Dividend\n",
      "WBA Feb 14, 2019 0.44 Dividend\n",
      "WMT Dec 05, 2019 0.53 Dividend\n",
      "WMT Aug 08, 2019 0.53 Dividend\n",
      "WMT May 09, 2019 0.53 Dividend\n",
      "WMT Mar 14, 2019 0.53 Dividend\n",
      "DIS Dec 13, 2019 0.88 Dividend\n",
      "DIS Jul 05, 2019 0.88 Dividend\n",
      "DOW Nov 27, 2019 0.7 Dividend\n",
      "DOW Aug 29, 2019 0.7 Dividend\n",
      "DOW May 30, 2019 0.7 Dividend\n"
     ]
    }
   ],
   "source": [
    "driver = webdriver.Chrome(service=Service(ChromeDriverManager().install()))\n",
    "\n",
    "changes = []\n",
    "largest_volume = []\n",
    "biggest_inc = []\n",
    "biggest_dec = []\n",
    "for i in dow_jones_companies:\n",
    "    # Открываем ссылку на исторические данные\n",
    "    try:\n",
    "        driver.get(f'https://finance.yahoo.com/quote/{i}/history?p={i}')\n",
    "        time.sleep(2)\n",
    "        driver.find_element(By.TAG_NAME, 'body').send_keys([Keys.PAGE_DOWN])\n",
    "        time.sleep(3)\n",
    "\n",
    "\n",
    "        # Указываем интересующий нас временной промежуток\n",
    "        driver\\\n",
    "            .find_element(By.CSS_SELECTOR, 'div[class=\"Pos(r) D(ib) C($linkColor) Cur(p)\"]')\\\n",
    "            .click()\n",
    "        \n",
    "        if i == 'DOW':\n",
    "            driver\\\n",
    "                .find_element(By.CSS_SELECTOR, 'input[name=startDate]')\\\n",
    "                .send_keys('21.03.2019')\n",
    "        else:\n",
    "            driver\\\n",
    "                .find_element(By.CSS_SELECTOR, 'input[name=startDate]')\\\n",
    "                .send_keys('01.01.2019')\n",
    "\n",
    "        driver\\\n",
    "            .find_element(By.CSS_SELECTOR, 'input[name=endDate]')\\\n",
    "            .send_keys('01.01.2020')\n",
    "        driver\\\n",
    "            .find_element(By.CSS_SELECTOR, 'button[class=\" Bgc($linkColor) Bdrs(3px) Px(20px) Miw(100px) Whs(nw) Fz(s) Fw(500) C(white) Bgc($linkActiveColor):h Bd(0) D(ib) Cur(p) Td(n)  Py(9px) Miw(80px)! Fl(start)\"]')\\\n",
    "            .click()\n",
    "\n",
    "        # Загружаем фильтры\n",
    "        driver\\\n",
    "            .find_element(By.CSS_SELECTOR, 'button[class=\" Bgc($linkColor) Bdrs(3px) Px(20px) Miw(100px) Whs(nw) Fz(s) Fw(500) C(white) Bgc($linkActiveColor):h Bd(0) D(ib) Cur(p) Td(n)  Py(9px) Fl(end)\"]')\\\n",
    "            .click()\n",
    "\n",
    "        # Даем время на прогрузку странице и забираем цену по итогам года\n",
    "        time.sleep(2)\n",
    "        close_price = driver\\\n",
    "                            .find_elements(By.CSS_SELECTOR, 'td[class=\"Py(10px) Pstart(10px)\"]')[3].text\n",
    "\n",
    "        # Скроллим страницу до конца (так как в сайт встроен javascript - html код подгружается сразу не весь,\n",
    "        # для этого пропишем ожидание и несколько вызовов функции скроллинга до конца страницы) и забираем цену открытия\n",
    "        for _ in range(3):\n",
    "            driver.find_element(By.TAG_NAME, 'body').send_keys(Keys.END)\n",
    "            time.sleep(1.5)\n",
    "        open_price = driver\\\n",
    "                           .find_elements(By.CSS_SELECTOR, 'td[class=\"Py(10px) Pstart(10px)\"]')[-6].text\n",
    "        \n",
    "        # Узнаем годовой объем продаж компании\n",
    "        tr = driver\\\n",
    "                .find_elements(By.CSS_SELECTOR, 'tr[class=\"BdT Bdc($seperatorColor) Ta(end) Fz(s) Whs(nw)\"]')\n",
    "        vol = 0\n",
    "        daily = []\n",
    "        for _ in tr:\n",
    "            try:\n",
    "                ntr = _.text.split(' ')\n",
    "                vol += int(ntr[-1].replace(',', ''))\n",
    "                daily.append(((float(ntr[-3]) / float(ntr[3])) - 1) * 100)\n",
    "            except:\n",
    "                print(i, _.text)\n",
    "        largest_volume.append(vol)\n",
    "        biggest_inc.append(max(daily))\n",
    "        biggest_dec.append(min(daily))\n",
    "\n",
    "        # Посчитываем изменения по данной формуле\n",
    "        change = ((float(close_price) / float(open_price)) - 1) * 100\n",
    "        changes.append(change)\n",
    "    except:\n",
    "        largest_volume.append(i)\n",
    "        biggest_inc.append(i)\n",
    "        biggest_dec.append(i)\n",
    "        changes.append(i)\n",
    "        print(i)"
   ]
  },
  {
   "cell_type": "markdown",
   "metadata": {},
   "source": [
    "<br><br>\n",
    "\n",
    "### Questions\n",
    "\n",
    "<br><br>\n",
    "\n",
    "**Question 1.** What is the average change of price over the year (in %)?\n",
    "\n",
    "*Note 1*. The opening price is the price at which a stock first trades upon the opening of an exchange on a trading day.\n",
    "\n",
    "*Note 2*. The closing price for any stock is the final price at which it trades during regular market hours on any given day.\n",
    "\n",
    "*Note 3*. Here by the price change we going to mean a ratio of a closing price in the last day of the period to an opening price in the first day of that period, subtracted one and multiplied by 100.\n",
    "\n",
    "Example: if a price of a stock in day 1 opened at \\\\$100, and its close price in the last day was \\\\$120, then the price change during the period is: $$\\left(\\dfrac{120}{100}-1\\right) * 100 = (1.2 - 1) * 100=20.$$\n",
    "\n",
    "The price grew by 20%."
   ]
  },
  {
   "cell_type": "code",
   "execution_count": 7,
   "metadata": {},
   "outputs": [
    {
     "data": {
      "text/plain": [
       "21.865912753775678"
      ]
     },
     "execution_count": 7,
     "metadata": {},
     "output_type": "execute_result"
    }
   ],
   "source": [
    "sum(changes)/len(changes)"
   ]
  },
  {
   "cell_type": "markdown",
   "metadata": {},
   "source": [
    "<br>\n",
    "\n",
    "**Question 2.** What company's stock price grew the most (in %)? Enter ticker of the company as an answer)"
   ]
  },
  {
   "cell_type": "code",
   "execution_count": 8,
   "metadata": {},
   "outputs": [
    {
     "data": {
      "text/plain": [
       "'AAPL'"
      ]
     },
     "execution_count": 8,
     "metadata": {},
     "output_type": "execute_result"
    }
   ],
   "source": [
    "dow_jones_companies[changes.index(max(changes))]"
   ]
  },
  {
   "cell_type": "markdown",
   "metadata": {},
   "source": [
    "<br>\n",
    "\n",
    "**Question 3.** What company's stock lost in price the most (in %)? Enter ticker of the company as an answer"
   ]
  },
  {
   "cell_type": "code",
   "execution_count": 9,
   "metadata": {},
   "outputs": [
    {
     "data": {
      "text/plain": [
       "'BA'"
      ]
     },
     "execution_count": 9,
     "metadata": {},
     "output_type": "execute_result"
    }
   ],
   "source": [
    "dow_jones_companies[changes.index(min(changes))]"
   ]
  },
  {
   "cell_type": "markdown",
   "metadata": {},
   "source": [
    "<br>\n",
    "\n",
    "**Question 4.** What company had the largest summary volume over the year? Enter ticker of the company as an answer"
   ]
  },
  {
   "cell_type": "code",
   "execution_count": 10,
   "metadata": {},
   "outputs": [
    {
     "data": {
      "text/plain": [
       "'AAPL'"
      ]
     },
     "execution_count": 10,
     "metadata": {},
     "output_type": "execute_result"
    }
   ],
   "source": [
    "dow_jones_companies[largest_volume.index(max(largest_volume))]"
   ]
  },
  {
   "cell_type": "markdown",
   "metadata": {},
   "source": [
    "<br>\n",
    "\n",
    "**Question 5.** What is the biggest stock price daily increase (in %)? Enter the number "
   ]
  },
  {
   "cell_type": "code",
   "execution_count": 11,
   "metadata": {},
   "outputs": [
    {
     "data": {
      "text/plain": [
       "7.740997118000381"
      ]
     },
     "execution_count": 11,
     "metadata": {},
     "output_type": "execute_result"
    }
   ],
   "source": [
    "max(biggest_inc)"
   ]
  },
  {
   "cell_type": "markdown",
   "metadata": {},
   "source": [
    "<br><br>\n",
    "\n",
    "**Question 6.** What is the company that had the biggest stock price daily increase? Enter ticker of the company as an answer"
   ]
  },
  {
   "cell_type": "code",
   "execution_count": 12,
   "metadata": {},
   "outputs": [
    {
     "data": {
      "text/plain": [
       "'BA'"
      ]
     },
     "execution_count": 12,
     "metadata": {},
     "output_type": "execute_result"
    }
   ],
   "source": [
    "dow_jones_companies[biggest_inc.index(max(biggest_inc))]"
   ]
  },
  {
   "cell_type": "markdown",
   "metadata": {},
   "source": [
    "<br>\n",
    "\n",
    "**Question 7.** What is the biggest stock price daily decrease (in %)? Enter the number"
   ]
  },
  {
   "cell_type": "code",
   "execution_count": 13,
   "metadata": {},
   "outputs": [
    {
     "data": {
      "text/plain": [
       "-7.16356455611108"
      ]
     },
     "execution_count": 13,
     "metadata": {},
     "output_type": "execute_result"
    }
   ],
   "source": [
    "min(biggest_dec)"
   ]
  },
  {
   "cell_type": "markdown",
   "metadata": {},
   "source": [
    "<br>\n",
    "\n",
    "**Question 8.** What is the company that had the biggest stock price daily decrese (in %)? Enter ticker of the company as an answer"
   ]
  },
  {
   "cell_type": "code",
   "execution_count": 14,
   "metadata": {},
   "outputs": [
    {
     "data": {
      "text/plain": [
       "'UNH'"
      ]
     },
     "execution_count": 14,
     "metadata": {},
     "output_type": "execute_result"
    }
   ],
   "source": [
    "dow_jones_companies[biggest_dec.index(min(biggest_dec))]"
   ]
  }
 ],
 "metadata": {
  "kernelspec": {
   "display_name": "Python 3",
   "language": "python",
   "name": "python3"
  },
  "language_info": {
   "codemirror_mode": {
    "name": "ipython",
    "version": 3
   },
   "file_extension": ".py",
   "mimetype": "text/x-python",
   "name": "python",
   "nbconvert_exporter": "python",
   "pygments_lexer": "ipython3",
   "version": "3.8.10"
  }
 },
 "nbformat": 4,
 "nbformat_minor": 4
}
