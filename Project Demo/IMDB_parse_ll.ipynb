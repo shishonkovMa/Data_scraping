{
 "cells": [
  {
   "cell_type": "code",
   "execution_count": 18,
   "metadata": {},
   "outputs": [],
   "source": [
    "import requests\n",
    "import re\n",
    "import os\n",
    "import json\n",
    "import urllib\n",
    "from bs4 import BeautifulSoup\n",
    "import numpy as np\n",
    "import pandas as pd\n",
    "from selenium import webdriver\n",
    "from sklearn import manifold\n",
    "import time\n",
    "import matplotlib.pyplot as plt\n",
    "%matplotlib inline"
   ]
  },
  {
   "cell_type": "code",
   "execution_count": 2,
   "metadata": {},
   "outputs": [],
   "source": [
    "headers = {'Accept-Language': 'en',\n",
    "           'X-FORWARDED-FOR': '2.21.184.0'}"
   ]
  },
  {
   "cell_type": "code",
   "execution_count": 27,
   "metadata": {},
   "outputs": [
    {
     "data": {
      "text/plain": [
       "200"
      ]
     },
     "execution_count": 27,
     "metadata": {},
     "output_type": "execute_result"
    }
   ],
   "source": [
    "url = 'https://www.imdb.com/search/title/?title_type=feature&release_date=2019-01-01,2019-12-31&num_votes=1000,&countries=us&languages=en'\n",
    "response = requests.get(url, headers=headers)\n",
    "response.status_code"
   ]
  },
  {
   "cell_type": "code",
   "execution_count": 4,
   "metadata": {},
   "outputs": [],
   "source": [
    "soup = BeautifulSoup(response.text)"
   ]
  },
  {
   "cell_type": "code",
   "execution_count": 5,
   "metadata": {},
   "outputs": [],
   "source": [
    "pics = soup.find_all('img', attrs={'class': 'loadlate'})"
   ]
  },
  {
   "cell_type": "code",
   "execution_count": 9,
   "metadata": {},
   "outputs": [
    {
     "data": {
      "text/plain": [
       "'https://m.media-amazon.com/images/M/MV5BOTg4ZTNkZmUtMzNlZi00YmFjLTk1MmUtNWQwNTM0YjcyNTNkXkEyXkFqcGdeQXVyNjg2NjQwMDQ@._V1_UX67_CR0,0,67,98_AL_.jpg'"
      ]
     },
     "execution_count": 9,
     "metadata": {},
     "output_type": "execute_result"
    }
   ],
   "source": [
    "pics[0]['loadlate']"
   ]
  },
  {
   "cell_type": "markdown",
   "metadata": {},
   "source": [
    "### Functions to implement\n",
    "* **[v]** get_link_to_next_page\n",
    "* **[v]** get_links_to_pics\n",
    "* **[v]** save_image\n",
    "* **[v]** download_all_posters"
   ]
  },
  {
   "cell_type": "code",
   "execution_count": 10,
   "metadata": {},
   "outputs": [],
   "source": [
    "def get_next_page_link(soup):\n",
    "    links = soup.find_all('a', attrs={'class': 'next-page'})\n",
    "    if len(links) == 0:\n",
    "        return None\n",
    "    else:\n",
    "        return links[0]['href']"
   ]
  },
  {
   "cell_type": "code",
   "execution_count": 13,
   "metadata": {},
   "outputs": [],
   "source": [
    "def get_links_to_pics(soup):\n",
    "    pics_elements = soup.find_all('img', attrs={'class': 'loadlate'})\n",
    "    pics = [element['loadlate'] for element in pics_elements]\n",
    "    if len(pics) == 0:\n",
    "        return None\n",
    "    return pics"
   ]
  },
  {
   "cell_type": "code",
   "execution_count": 24,
   "metadata": {},
   "outputs": [],
   "source": [
    "def save_image(pic_url, save_dir=''):\n",
    "    filename = urllib.parse.urlsplit(pic_url).path.split('/')[-1]\n",
    "    if not save_dir == '' and not os.path.exists(save_dir):\n",
    "        os.makedirs(save_dir)\n",
    "    save_path = os.path.join(save_dir, filename)\n",
    "    \n",
    "    with requests.get(pic_url, stream=True) as r:\n",
    "        with open(save_path, 'wb') as f:\n",
    "            r.raise_for_status()\n",
    "            for chunk in r.iter_content():\n",
    "                f.write(chunk)"
   ]
  },
  {
   "cell_type": "code",
   "execution_count": 29,
   "metadata": {},
   "outputs": [],
   "source": [
    "def download_all_posters(url, save_dir='pics', verbose=False):\n",
    "    headers = {'Accept-Language': 'en',\n",
    "           'X-FORWARDED-FOR': '2.21.184.0'}\n",
    "    done = 0\n",
    "    while True:\n",
    "        response = requests.get(url, headers=headers)\n",
    "        assert response.status_code == 200\n",
    "        soup = BeautifulSoup(response.text)\n",
    "        pic_urls = get_links_to_pics(soup)\n",
    "        for pic_url in pic_urls:\n",
    "            save_image(pic_url, save_dir)\n",
    "        link = get_next_page_link(soup)\n",
    "        if verbose:\n",
    "            done += 1\n",
    "            print(f'Done with {done} pages')\n",
    "        if not link:\n",
    "            break\n",
    "        url = urllib.parse.urljoin(url, link)\n",
    "        time.sleep(1)"
   ]
  },
  {
   "cell_type": "code",
   "execution_count": 31,
   "metadata": {},
   "outputs": [
    {
     "name": "stdout",
     "output_type": "stream",
     "text": [
      "Done with 1 pages\n",
      "Done with 2 pages\n",
      "Done with 3 pages\n",
      "Done with 4 pages\n",
      "Done with 5 pages\n",
      "Done with 6 pages\n",
      "Done with 7 pages\n",
      "Done with 8 pages\n",
      "Done with 9 pages\n",
      "Done with 10 pages\n",
      "Done with 11 pages\n",
      "Done with 12 pages\n"
     ]
    }
   ],
   "source": [
    "download_all_posters(url, verbose=True)"
   ]
  },
  {
   "cell_type": "code",
   "execution_count": 34,
   "metadata": {},
   "outputs": [],
   "source": [
    "from imageio import imread"
   ]
  },
  {
   "cell_type": "code",
   "execution_count": 92,
   "metadata": {},
   "outputs": [
    {
     "name": "stderr",
     "output_type": "stream",
     "text": [
      "<ipython-input-92-6dca4d54a27b>:8: DeprecationWarning: Starting with ImageIO v3 the behavior of this function will switch to that of iio.v3.imread. To keep the current behavior (and make this warning dissapear) use `import imageio.v2 as imageio` or call `imageio.v2.imread` directly.\n",
      "  image = imread(os.path.join(save_dir, pic))\n"
     ]
    }
   ],
   "source": [
    "save_dir = 'pics'\n",
    "pics = os.listdir(save_dir)\n",
    "\n",
    "images_orig = []\n",
    "images_reshaped = []\n",
    "for pic in pics:\n",
    "    try:\n",
    "        image = imread(os.path.join(save_dir, pic))\n",
    "        images_orig.append(image)\n",
    "        images_reshaped.append(image.reshape(-1))\n",
    "    except:\n",
    "        print(pic)"
   ]
  },
  {
   "cell_type": "code",
   "execution_count": 93,
   "metadata": {},
   "outputs": [
    {
     "data": {
      "text/plain": [
       "(98, 67, 3)"
      ]
     },
     "execution_count": 93,
     "metadata": {},
     "output_type": "execute_result"
    }
   ],
   "source": [
    "images_orig[0].shape"
   ]
  },
  {
   "cell_type": "code",
   "execution_count": 94,
   "metadata": {},
   "outputs": [
    {
     "data": {
      "text/plain": [
       "Array([231, 219, 193, ..., 228, 216, 192], dtype=uint8)"
      ]
     },
     "execution_count": 94,
     "metadata": {},
     "output_type": "execute_result"
    }
   ],
   "source": [
    "images_reshaped[0]"
   ]
  },
  {
   "cell_type": "code",
   "execution_count": 103,
   "metadata": {},
   "outputs": [],
   "source": [
    "# images_reshaped_1 = []\n",
    "# for i in images_reshaped:\n",
    "#     images_reshaped_1.append(list(i))\n",
    "# images_reshaped_1"
   ]
  },
  {
   "cell_type": "code",
   "execution_count": 80,
   "metadata": {},
   "outputs": [],
   "source": [
    "# images_orig = np.array(images_orig)\n",
    "# images_reshaped = np.array(images_reshaped)"
   ]
  },
  {
   "cell_type": "code",
   "execution_count": 81,
   "metadata": {},
   "outputs": [],
   "source": [
    "# tsne = manifold.TSNE(n_components=2, init='pca')"
   ]
  },
  {
   "cell_type": "code",
   "execution_count": 82,
   "metadata": {},
   "outputs": [],
   "source": [
    "# X_tsne = tsne.fit_transform(images_reshaped)"
   ]
  },
  {
   "cell_type": "code",
   "execution_count": 83,
   "metadata": {},
   "outputs": [],
   "source": [
    "# X_tsne.shape"
   ]
  }
 ],
 "metadata": {
  "kernelspec": {
   "display_name": "Python 3",
   "language": "python",
   "name": "python3"
  },
  "language_info": {
   "codemirror_mode": {
    "name": "ipython",
    "version": 3
   },
   "file_extension": ".py",
   "mimetype": "text/x-python",
   "name": "python",
   "nbconvert_exporter": "python",
   "pygments_lexer": "ipython3",
   "version": "3.8.10"
  }
 },
 "nbformat": 4,
 "nbformat_minor": 4
}
