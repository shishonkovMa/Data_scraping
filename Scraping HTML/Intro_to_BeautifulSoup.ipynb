{
 "cells": [
  {
   "cell_type": "markdown",
   "metadata": {},
   "source": [
    "# Intro to BeautifulSoup"
   ]
  },
  {
   "cell_type": "code",
   "execution_count": 1,
   "metadata": {},
   "outputs": [],
   "source": [
    "import requests\n",
    "from bs4 import BeautifulSoup"
   ]
  },
  {
   "cell_type": "code",
   "execution_count": 2,
   "metadata": {},
   "outputs": [],
   "source": [
    "url = 'https://en.wikipedia.org/wiki/Python_(programming_language)'"
   ]
  },
  {
   "cell_type": "code",
   "execution_count": 3,
   "metadata": {},
   "outputs": [],
   "source": [
    "response = requests.get(url)"
   ]
  },
  {
   "cell_type": "code",
   "execution_count": 4,
   "metadata": {},
   "outputs": [
    {
     "data": {
      "text/plain": [
       "200"
      ]
     },
     "execution_count": 4,
     "metadata": {},
     "output_type": "execute_result"
    }
   ],
   "source": [
    "response.status_code"
   ]
  },
  {
   "cell_type": "code",
   "execution_count": 6,
   "metadata": {},
   "outputs": [
    {
     "data": {
      "text/plain": [
       "str"
      ]
     },
     "execution_count": 6,
     "metadata": {},
     "output_type": "execute_result"
    }
   ],
   "source": [
    "type(response.text)"
   ]
  },
  {
   "cell_type": "code",
   "execution_count": 11,
   "metadata": {},
   "outputs": [],
   "source": [
    "soup = BeautifulSoup(response.text) # 'html.parser', 'xml', 'html5lib', 'lxml' (default)"
   ]
  },
  {
   "cell_type": "code",
   "execution_count": 12,
   "metadata": {},
   "outputs": [
    {
     "data": {
      "text/plain": [
       "bs4.BeautifulSoup"
      ]
     },
     "execution_count": 12,
     "metadata": {},
     "output_type": "execute_result"
    }
   ],
   "source": [
    "type(soup)"
   ]
  },
  {
   "cell_type": "code",
   "execution_count": 14,
   "metadata": {},
   "outputs": [
    {
     "data": {
      "text/plain": [
       "'[document]'"
      ]
     },
     "execution_count": 14,
     "metadata": {},
     "output_type": "execute_result"
    }
   ],
   "source": [
    "#  print(soup.prettify())\n",
    "soup.name"
   ]
  },
  {
   "cell_type": "code",
   "execution_count": 16,
   "metadata": {},
   "outputs": [
    {
     "data": {
      "text/plain": [
       "{}"
      ]
     },
     "execution_count": 16,
     "metadata": {},
     "output_type": "execute_result"
    }
   ],
   "source": [
    "soup.attrs"
   ]
  },
  {
   "cell_type": "code",
   "execution_count": 19,
   "metadata": {},
   "outputs": [],
   "source": [
    "tag = soup.find('div')"
   ]
  },
  {
   "cell_type": "code",
   "execution_count": 21,
   "metadata": {},
   "outputs": [
    {
     "data": {
      "text/plain": [
       "bs4.element.Tag"
      ]
     },
     "execution_count": 21,
     "metadata": {},
     "output_type": "execute_result"
    }
   ],
   "source": [
    "type(tag)"
   ]
  },
  {
   "cell_type": "code",
   "execution_count": 22,
   "metadata": {},
   "outputs": [
    {
     "data": {
      "text/plain": [
       "{'id': 'mw-page-base', 'class': ['noprint']}"
      ]
     },
     "execution_count": 22,
     "metadata": {},
     "output_type": "execute_result"
    }
   ],
   "source": [
    "tag.attrs"
   ]
  },
  {
   "cell_type": "code",
   "execution_count": 23,
   "metadata": {},
   "outputs": [
    {
     "data": {
      "text/plain": [
       "<div class=\"noprint\" id=\"mw-page-base\"></div>"
      ]
     },
     "execution_count": 23,
     "metadata": {},
     "output_type": "execute_result"
    }
   ],
   "source": [
    "tag"
   ]
  },
  {
   "cell_type": "code",
   "execution_count": 24,
   "metadata": {},
   "outputs": [],
   "source": [
    "tags = soup.find_all('div')"
   ]
  },
  {
   "cell_type": "code",
   "execution_count": 25,
   "metadata": {},
   "outputs": [
    {
     "data": {
      "text/plain": [
       "150"
      ]
     },
     "execution_count": 25,
     "metadata": {},
     "output_type": "execute_result"
    }
   ],
   "source": [
    "len(tags)"
   ]
  },
  {
   "cell_type": "code",
   "execution_count": 27,
   "metadata": {},
   "outputs": [],
   "source": [
    "tags = soup.find_all(name = ['div', 'p'])"
   ]
  },
  {
   "cell_type": "code",
   "execution_count": 28,
   "metadata": {},
   "outputs": [
    {
     "data": {
      "text/plain": [
       "230"
      ]
     },
     "execution_count": 28,
     "metadata": {},
     "output_type": "execute_result"
    }
   ],
   "source": [
    "len(tags)"
   ]
  },
  {
   "cell_type": "code",
   "execution_count": 34,
   "metadata": {},
   "outputs": [],
   "source": [
    "tags = soup.find_all(attrs={'aria-labelledby':True})"
   ]
  },
  {
   "cell_type": "code",
   "execution_count": 35,
   "metadata": {},
   "outputs": [
    {
     "data": {
      "text/plain": [
       "23"
      ]
     },
     "execution_count": 35,
     "metadata": {},
     "output_type": "execute_result"
    }
   ],
   "source": [
    "len(tags)"
   ]
  },
  {
   "cell_type": "markdown",
   "metadata": {},
   "source": [
    "**Find_all attributes:**\n",
    "- recursive - by default\n",
    "- limit - find not more than ...\n",
    "\n",
    "### Example\n",
    "\n",
    "1. Let's try to find all links"
   ]
  },
  {
   "cell_type": "code",
   "execution_count": 38,
   "metadata": {},
   "outputs": [],
   "source": [
    "links = soup.find_all('a', attrs={'href': True})"
   ]
  },
  {
   "cell_type": "code",
   "execution_count": 39,
   "metadata": {},
   "outputs": [
    {
     "data": {
      "text/plain": [
       "2234"
      ]
     },
     "execution_count": 39,
     "metadata": {},
     "output_type": "execute_result"
    }
   ],
   "source": [
    "len(links)"
   ]
  },
  {
   "cell_type": "code",
   "execution_count": 40,
   "metadata": {},
   "outputs": [
    {
     "data": {
      "text/plain": [
       "<a href=\"/wiki/Wikipedia:Good_articles\" title=\"This is a good article. Click here for more information.\"><img alt=\"This is a good article. Click here for more information.\" data-file-height=\"185\" data-file-width=\"180\" decoding=\"async\" height=\"20\" src=\"//upload.wikimedia.org/wikipedia/en/thumb/9/94/Symbol_support_vote.svg/19px-Symbol_support_vote.svg.png\" srcset=\"//upload.wikimedia.org/wikipedia/en/thumb/9/94/Symbol_support_vote.svg/29px-Symbol_support_vote.svg.png 1.5x, //upload.wikimedia.org/wikipedia/en/thumb/9/94/Symbol_support_vote.svg/39px-Symbol_support_vote.svg.png 2x\" width=\"19\"/></a>"
      ]
     },
     "execution_count": 40,
     "metadata": {},
     "output_type": "execute_result"
    }
   ],
   "source": [
    "links[0]"
   ]
  },
  {
   "cell_type": "code",
   "execution_count": 41,
   "metadata": {},
   "outputs": [],
   "source": [
    "import re"
   ]
  },
  {
   "cell_type": "code",
   "execution_count": 42,
   "metadata": {},
   "outputs": [],
   "source": [
    "links = soup.find_all('a', attrs={'href': re.compile('https://')})"
   ]
  },
  {
   "cell_type": "code",
   "execution_count": 43,
   "metadata": {},
   "outputs": [
    {
     "data": {
      "text/plain": [
       "538"
      ]
     },
     "execution_count": 43,
     "metadata": {},
     "output_type": "execute_result"
    }
   ],
   "source": [
    "len(links)"
   ]
  },
  {
   "cell_type": "code",
   "execution_count": 50,
   "metadata": {},
   "outputs": [
    {
     "data": {
      "text/plain": [
       "<a class=\"extiw\" href=\"https://en.wikibooks.org/wiki/Python_Programming\" title=\"wikibooks:Python Programming\">Python Programming</a>"
      ]
     },
     "execution_count": 50,
     "metadata": {},
     "output_type": "execute_result"
    }
   ],
   "source": [
    "links[3]"
   ]
  },
  {
   "cell_type": "markdown",
   "metadata": {},
   "source": [
    "Get the text from those links"
   ]
  },
  {
   "cell_type": "code",
   "execution_count": 49,
   "metadata": {},
   "outputs": [
    {
     "data": {
      "text/plain": [
       "'Python Programming'"
      ]
     },
     "execution_count": 49,
     "metadata": {},
     "output_type": "execute_result"
    }
   ],
   "source": [
    "links[3].text"
   ]
  },
  {
   "attachments": {
    "image.png": {
     "image/png": "[encoded data removed]"
    }
   },
   "cell_type": "markdown",
   "metadata": {},
   "source": [
    "**If we want to take some special info from page**\n",
    "\n",
    "![image.png](attachment:image.png)"
   ]
  },
  {
   "cell_type": "code",
   "execution_count": 51,
   "metadata": {},
   "outputs": [
    {
     "data": {
      "text/plain": [
       "<div aria-labelledby=\"mw-toc-heading\" class=\"toc\" id=\"toc\" role=\"navigation\"><input class=\"toctogglecheckbox\" id=\"toctogglecheckbox\" role=\"button\" style=\"display:none\" type=\"checkbox\"/><div class=\"toctitle\" dir=\"ltr\" lang=\"en\"><h2 id=\"mw-toc-heading\">Contents</h2><span class=\"toctogglespan\"><label class=\"toctogglelabel\" for=\"toctogglecheckbox\"></label></span></div>\n",
       "<ul>\n",
       "<li class=\"toclevel-1 tocsection-1\"><a href=\"#History\"><span class=\"tocnumber\">1</span> <span class=\"toctext\">History</span></a></li>\n",
       "<li class=\"toclevel-1 tocsection-2\"><a href=\"#Design_philosophy_and_features\"><span class=\"tocnumber\">2</span> <span class=\"toctext\">Design philosophy and features</span></a></li>\n",
       "<li class=\"toclevel-1 tocsection-3\"><a href=\"#Syntax_and_semantics\"><span class=\"tocnumber\">3</span> <span class=\"toctext\">Syntax and semantics</span></a>\n",
       "<ul>\n",
       "<li class=\"toclevel-2 tocsection-4\"><a href=\"#Indentation\"><span class=\"tocnumber\">3.1</span> <span class=\"toctext\">Indentation</span></a></li>\n",
       "<li class=\"toclevel-2 tocsection-5\"><a href=\"#Statements_and_control_flow\"><span class=\"tocnumber\">3.2</span> <span class=\"toctext\">Statements and control flow</span></a></li>\n",
       "<li class=\"toclevel-2 tocsection-6\"><a href=\"#Expressions\"><span class=\"tocnumber\">3.3</span> <span class=\"toctext\">Expressions</span></a></li>\n",
       "<li class=\"toclevel-2 tocsection-7\"><a href=\"#Methods\"><span class=\"tocnumber\">3.4</span> <span class=\"toctext\">Methods</span></a></li>\n",
       "<li class=\"toclevel-2 tocsection-8\"><a href=\"#Typing\"><span class=\"tocnumber\">3.5</span> <span class=\"toctext\">Typing</span></a></li>\n",
       "<li class=\"toclevel-2 tocsection-9\"><a href=\"#Arithmetic_operations\"><span class=\"tocnumber\">3.6</span> <span class=\"toctext\">Arithmetic operations</span></a></li>\n",
       "</ul>\n",
       "</li>\n",
       "<li class=\"toclevel-1 tocsection-10\"><a href=\"#Programming_examples\"><span class=\"tocnumber\">4</span> <span class=\"toctext\">Programming examples</span></a></li>\n",
       "<li class=\"toclevel-1 tocsection-11\"><a href=\"#Libraries\"><span class=\"tocnumber\">5</span> <span class=\"toctext\">Libraries</span></a></li>\n",
       "<li class=\"toclevel-1 tocsection-12\"><a href=\"#Development_environments\"><span class=\"tocnumber\">6</span> <span class=\"toctext\">Development environments</span></a></li>\n",
       "<li class=\"toclevel-1 tocsection-13\"><a href=\"#Implementations\"><span class=\"tocnumber\">7</span> <span class=\"toctext\">Implementations</span></a>\n",
       "<ul>\n",
       "<li class=\"toclevel-2 tocsection-14\"><a href=\"#Reference_implementation\"><span class=\"tocnumber\">7.1</span> <span class=\"toctext\">Reference implementation</span></a></li>\n",
       "<li class=\"toclevel-2 tocsection-15\"><a href=\"#Other_implementations\"><span class=\"tocnumber\">7.2</span> <span class=\"toctext\">Other implementations</span></a></li>\n",
       "<li class=\"toclevel-2 tocsection-16\"><a href=\"#Unsupported_implementations\"><span class=\"tocnumber\">7.3</span> <span class=\"toctext\">Unsupported implementations</span></a></li>\n",
       "<li class=\"toclevel-2 tocsection-17\"><a href=\"#Cross-compilers_to_other_languages\"><span class=\"tocnumber\">7.4</span> <span class=\"toctext\">Cross-compilers to other languages</span></a></li>\n",
       "<li class=\"toclevel-2 tocsection-18\"><a href=\"#Performance\"><span class=\"tocnumber\">7.5</span> <span class=\"toctext\">Performance</span></a></li>\n",
       "</ul>\n",
       "</li>\n",
       "<li class=\"toclevel-1 tocsection-19\"><a href=\"#Development\"><span class=\"tocnumber\">8</span> <span class=\"toctext\">Development</span></a></li>\n",
       "<li class=\"toclevel-1 tocsection-20\"><a href=\"#API_documentation_generators\"><span class=\"tocnumber\">9</span> <span class=\"toctext\">API documentation generators</span></a></li>\n",
       "<li class=\"toclevel-1 tocsection-21\"><a href=\"#Naming\"><span class=\"tocnumber\">10</span> <span class=\"toctext\">Naming</span></a></li>\n",
       "<li class=\"toclevel-1 tocsection-22\"><a href=\"#Popularity\"><span class=\"tocnumber\">11</span> <span class=\"toctext\">Popularity</span></a></li>\n",
       "<li class=\"toclevel-1 tocsection-23\"><a href=\"#Uses\"><span class=\"tocnumber\">12</span> <span class=\"toctext\">Uses</span></a></li>\n",
       "<li class=\"toclevel-1 tocsection-24\"><a href=\"#Languages_influenced_by_Python\"><span class=\"tocnumber\">13</span> <span class=\"toctext\">Languages influenced by Python</span></a></li>\n",
       "<li class=\"toclevel-1 tocsection-25\"><a href=\"#See_also\"><span class=\"tocnumber\">14</span> <span class=\"toctext\">See also</span></a></li>\n",
       "<li class=\"toclevel-1 tocsection-26\"><a href=\"#References\"><span class=\"tocnumber\">15</span> <span class=\"toctext\">References</span></a>\n",
       "<ul>\n",
       "<li class=\"toclevel-2 tocsection-27\"><a href=\"#Sources\"><span class=\"tocnumber\">15.1</span> <span class=\"toctext\">Sources</span></a></li>\n",
       "</ul>\n",
       "</li>\n",
       "<li class=\"toclevel-1 tocsection-28\"><a href=\"#Further_reading\"><span class=\"tocnumber\">16</span> <span class=\"toctext\">Further reading</span></a></li>\n",
       "<li class=\"toclevel-1 tocsection-29\"><a href=\"#External_links\"><span class=\"tocnumber\">17</span> <span class=\"toctext\">External links</span></a></li>\n",
       "</ul>\n",
       "</div>"
      ]
     },
     "execution_count": 51,
     "metadata": {},
     "output_type": "execute_result"
    }
   ],
   "source": [
    "result = soup.find('div', attrs={'id': 'toc'})\n",
    "result"
   ]
  },
  {
   "cell_type": "code",
   "execution_count": 53,
   "metadata": {},
   "outputs": [
    {
     "data": {
      "text/plain": [
       "29"
      ]
     },
     "execution_count": 53,
     "metadata": {},
     "output_type": "execute_result"
    }
   ],
   "source": [
    "elements = result.find_all('li')\n",
    "len(elements)"
   ]
  },
  {
   "cell_type": "code",
   "execution_count": 54,
   "metadata": {},
   "outputs": [
    {
     "name": "stdout",
     "output_type": "stream",
     "text": [
      "1 History\n",
      "2 Design philosophy and features\n",
      "3 Syntax and semantics\n",
      "\n",
      "3.1 Indentation\n",
      "3.2 Statements and control flow\n",
      "3.3 Expressions\n",
      "3.4 Methods\n",
      "3.5 Typing\n",
      "3.6 Arithmetic operations\n",
      "\n",
      "\n",
      "3.1 Indentation\n",
      "3.2 Statements and control flow\n",
      "3.3 Expressions\n",
      "3.4 Methods\n",
      "3.5 Typing\n",
      "3.6 Arithmetic operations\n",
      "4 Programming examples\n",
      "5 Libraries\n",
      "6 Development environments\n",
      "7 Implementations\n",
      "\n",
      "7.1 Reference implementation\n",
      "7.2 Other implementations\n",
      "7.3 Unsupported implementations\n",
      "7.4 Cross-compilers to other languages\n",
      "7.5 Performance\n",
      "\n",
      "\n",
      "7.1 Reference implementation\n",
      "7.2 Other implementations\n",
      "7.3 Unsupported implementations\n",
      "7.4 Cross-compilers to other languages\n",
      "7.5 Performance\n",
      "8 Development\n",
      "9 API documentation generators\n",
      "10 Naming\n",
      "11 Popularity\n",
      "12 Uses\n",
      "13 Languages influenced by Python\n",
      "14 See also\n",
      "15 References\n",
      "\n",
      "15.1 Sources\n",
      "\n",
      "\n",
      "15.1 Sources\n",
      "16 Further reading\n",
      "17 External links\n"
     ]
    }
   ],
   "source": [
    "for element in elements:\n",
    "    print(element.text)"
   ]
  },
  {
   "cell_type": "code",
   "execution_count": null,
   "metadata": {},
   "outputs": [],
   "source": []
  }
 ],
 "metadata": {
  "kernelspec": {
   "display_name": "Python 3",
   "language": "python",
   "name": "python3"
  },
  "language_info": {
   "codemirror_mode": {
    "name": "ipython",
    "version": 3
   },
   "file_extension": ".py",
   "mimetype": "text/x-python",
   "name": "python",
   "nbconvert_exporter": "python",
   "pygments_lexer": "ipython3",
   "version": "3.8.10"
  }
 },
 "nbformat": 4,
 "nbformat_minor": 4
}
