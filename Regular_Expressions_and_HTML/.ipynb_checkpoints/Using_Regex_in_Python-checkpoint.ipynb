{
 "cells": [
  {
   "cell_type": "markdown",
   "metadata": {},
   "source": [
    "## Theory part"
   ]
  },
  {
   "cell_type": "code",
   "execution_count": 1,
   "metadata": {},
   "outputs": [],
   "source": [
    "import re"
   ]
  },
  {
   "cell_type": "code",
   "execution_count": 2,
   "metadata": {},
   "outputs": [
    {
     "data": {
      "text/plain": [
       "['Apple']"
      ]
     },
     "execution_count": 2,
     "metadata": {},
     "output_type": "execute_result"
    }
   ],
   "source": [
    "pattern = re.compile('Apple')\n",
    "text = 'I have an Apple'\n",
    "re.findall(pattern, text)"
   ]
  },
  {
   "cell_type": "code",
   "execution_count": 3,
   "metadata": {},
   "outputs": [
    {
     "data": {
      "text/plain": [
       "[<re.Match object; span=(10, 15), match='Apple'>]"
      ]
     },
     "execution_count": 3,
     "metadata": {},
     "output_type": "execute_result"
    }
   ],
   "source": [
    "list(re.finditer(pattern, text))"
   ]
  },
  {
   "cell_type": "markdown",
   "metadata": {},
   "source": [
    "Apple with a loswer case"
   ]
  },
  {
   "cell_type": "code",
   "execution_count": 4,
   "metadata": {},
   "outputs": [
    {
     "data": {
      "text/plain": [
       "['apple']"
      ]
     },
     "execution_count": 4,
     "metadata": {},
     "output_type": "execute_result"
    }
   ],
   "source": [
    "text = 'I have an apple'\n",
    "\n",
    "pattern = re.compile('[Aa]pple')\n",
    "\n",
    "re.findall(pattern, text)"
   ]
  },
  {
   "cell_type": "markdown",
   "metadata": {},
   "source": [
    "Examples with \\ metasymbols"
   ]
  },
  {
   "cell_type": "code",
   "execution_count": 5,
   "metadata": {},
   "outputs": [
    {
     "data": {
      "text/plain": [
       "['5', '16']"
      ]
     },
     "execution_count": 5,
     "metadata": {},
     "output_type": "execute_result"
    }
   ],
   "source": [
    "text = 'I have 5 apples and 16 oranges'\n",
    "pattern = re.compile('\\d+')\n",
    "re.findall(pattern, text)"
   ]
  },
  {
   "cell_type": "code",
   "execution_count": 6,
   "metadata": {},
   "outputs": [
    {
     "data": {
      "text/plain": [
       "21"
      ]
     },
     "execution_count": 6,
     "metadata": {},
     "output_type": "execute_result"
    }
   ],
   "source": [
    "sum(map(int, re.findall(pattern, text)))"
   ]
  },
  {
   "cell_type": "markdown",
   "metadata": {},
   "source": [
    "Another example with \\"
   ]
  },
  {
   "cell_type": "code",
   "execution_count": 7,
   "metadata": {},
   "outputs": [
    {
     "name": "stdout",
     "output_type": "stream",
     "text": [
      "\\section\n"
     ]
    },
    {
     "data": {
      "text/plain": [
       "8"
      ]
     },
     "execution_count": 7,
     "metadata": {},
     "output_type": "execute_result"
    }
   ],
   "source": [
    "text = '\\section{Introduction}'\n",
    "\n",
    "pattern = re.compile('\\\\\\\\section')\n",
    "\n",
    "re.findall(pattern, text)\n",
    "\n",
    "print(re.findall(pattern, text)[0])\n",
    "\n",
    "len('\\section')"
   ]
  },
  {
   "cell_type": "code",
   "execution_count": 8,
   "metadata": {},
   "outputs": [
    {
     "data": {
      "text/plain": [
       "8"
      ]
     },
     "execution_count": 8,
     "metadata": {},
     "output_type": "execute_result"
    }
   ],
   "source": [
    "len('\\\\section')"
   ]
  },
  {
   "cell_type": "code",
   "execution_count": 9,
   "metadata": {},
   "outputs": [
    {
     "name": "stdout",
     "output_type": "stream",
     "text": [
      "\\section\n"
     ]
    }
   ],
   "source": [
    "pattern = re.compile(r'\\\\section')\n",
    "\n",
    "print(re.findall(pattern, text)[0])"
   ]
  },
  {
   "cell_type": "markdown",
   "metadata": {},
   "source": [
    "Example with mail adresses in big text"
   ]
  },
  {
   "cell_type": "code",
   "execution_count": 10,
   "metadata": {},
   "outputs": [
    {
     "data": {
      "text/plain": [
       "['press@coursera.org']"
      ]
     },
     "execution_count": 10,
     "metadata": {},
     "output_type": "execute_result"
    }
   ],
   "source": [
    "pattern = re.compile(r'[a-z0-9-]+@[a-z]+\\.[a-z]+')\n",
    "\n",
    "with open('coursera_contact.txt', 'r') as f:\n",
    "    text = f.read()\n",
    "\n",
    "re.findall(pattern, text)"
   ]
  },
  {
   "cell_type": "markdown",
   "metadata": {},
   "source": [
    "<br>\n",
    "<br>\n",
    "\n",
    "***\n",
    "## Practice part"
   ]
  },
  {
   "cell_type": "markdown",
   "metadata": {},
   "source": [
    "Implement a pattern, that matches any word, that contains lowercase 'a' letter.\n",
    "\n",
    "**Example.** A pattern should match all words containing \"a\" in string 'this is an apple!\"\n",
    "\n",
    "A pattern should have no matches in strings like:\n",
    "\n",
    "- \"crow\"\n",
    "\n",
    "- \"Adult\" (because there is an uppercase \"A\")"
   ]
  },
  {
   "cell_type": "code",
   "execution_count": 11,
   "metadata": {},
   "outputs": [
    {
     "name": "stdout",
     "output_type": "stream",
     "text": [
      "['an', 'apple']\n",
      "['man', 'an', 'can', 'anon', 'a']\n"
     ]
    }
   ],
   "source": [
    "p = re.compile(r'\\b[a-z]*a[a-z]*\\b')\n",
    "text =  'this is an apple!'\n",
    "print(re.findall(p, text))\n",
    "text = 'hello man an can anon 123 a!'\n",
    "print(re.findall(p, text))"
   ]
  },
  {
   "cell_type": "markdown",
   "metadata": {},
   "source": [
    "***"
   ]
  },
  {
   "cell_type": "markdown",
   "metadata": {},
   "source": [
    "Implement a pattern, that matches integers.\n",
    "\n",
    "**Example.** A pattern should match all integers in string, positive or negative: \"There are 15 apples and −2 oranges!\""
   ]
  },
  {
   "cell_type": "code",
   "execution_count": 12,
   "metadata": {},
   "outputs": [
    {
     "name": "stdout",
     "output_type": "stream",
     "text": [
      "[('15', ''), ('2', '')]\n"
     ]
    }
   ],
   "source": [
    "p = re.compile('([0-9]+)|(-[0-9]+)')\n",
    "text = \"There are 15 apples and −2 oranges!\"\n",
    "print(re.findall(p, text))"
   ]
  },
  {
   "cell_type": "markdown",
   "metadata": {},
   "source": [
    "***"
   ]
  },
  {
   "cell_type": "markdown",
   "metadata": {},
   "source": [
    "Implement a pattern, that matches positive real numbers.\n",
    "\n",
    "**Example.** A pattern should match all positive numbers in string, including decimals: \"There are 1.5 apples and 2 oranges!\""
   ]
  },
  {
   "cell_type": "code",
   "execution_count": 13,
   "metadata": {},
   "outputs": [
    {
     "name": "stdout",
     "output_type": "stream",
     "text": [
      "['1.5', '2']\n"
     ]
    }
   ],
   "source": [
    "p = re.compile('(?:\\d+(?:\\.\\d*)?|\\.\\d+)')\n",
    "text = \"There are 1.5 apples and 2 oranges!\"\n",
    "print(re.findall(p, text))"
   ]
  },
  {
   "cell_type": "markdown",
   "metadata": {},
   "source": [
    "***"
   ]
  },
  {
   "cell_type": "markdown",
   "metadata": {},
   "source": [
    "Implement a pattern, that matches time in 24-hour format: HH:MM.\n",
    "\n",
    "**Example.**\n",
    "\n",
    "A pattern should match time: \"At 17:00, or at 14:00, or at 25:61\".\n",
    "\n",
    "There could be an optional leading 0 for early hours: \"At 4:30 or 04:30\"."
   ]
  },
  {
   "cell_type": "code",
   "execution_count": 14,
   "metadata": {},
   "outputs": [
    {
     "name": "stdout",
     "output_type": "stream",
     "text": [
      "[('17:00', ''), ('14:00', '')]\n",
      "[('', '4:30'), ('04:30', '')]\n"
     ]
    }
   ],
   "source": [
    "p = re.compile('([012][0-9]:[012345][0-9])|([0-9]:[012345][0-9])')\n",
    "t1 = \"At 17:00, or at 14:00, or at 25:61\"\n",
    "t2 = \"At 4:30 or 04:30\"\n",
    "print(re.findall(p, t1))\n",
    "print(re.findall(p, t2))"
   ]
  },
  {
   "cell_type": "markdown",
   "metadata": {},
   "source": [
    "***"
   ]
  },
  {
   "cell_type": "markdown",
   "metadata": {},
   "source": [
    "Implement a pattern, that matches a date in format YYYY-MM-DD:\n",
    "\n",
    "**Example.** \n",
    "A pattern should match all appropriate dates: \"It was a long time ago. In 1888-01-01 or in 2001-01-01 or in 1999-13-40.\""
   ]
  },
  {
   "cell_type": "code",
   "execution_count": 15,
   "metadata": {},
   "outputs": [
    {
     "name": "stdout",
     "output_type": "stream",
     "text": [
      "[('1881', '02', '21')]\n"
     ]
    }
   ],
   "source": [
    "p = re.compile('([1-9][0-9]{3})-(0[1-9]|1[012])-(0[1-9]|[12][0-9]|3[01])')\n",
    "text = '1881-02-21'\n",
    "print(re.findall(p, text))"
   ]
  },
  {
   "cell_type": "markdown",
   "metadata": {},
   "source": [
    "***"
   ]
  },
  {
   "cell_type": "markdown",
   "metadata": {},
   "source": [
    "Implement a pattern, that matches an appropriate username. By username here we mean a string of 3 to 16 alphanumeric characters. A username can also contain symbols '-' or '_'.\n",
    "\n",
    "**Example.** A pattern should match an appropriate username \"Hi! I'm megaduck2010!\"."
   ]
  },
  {
   "cell_type": "code",
   "execution_count": 16,
   "metadata": {},
   "outputs": [
    {
     "name": "stdout",
     "output_type": "stream",
     "text": [
      "['megaduck2010']\n"
     ]
    }
   ],
   "source": [
    "p = re.compile('[a-zA-Z0-9_-]{3,16}')\n",
    "text = \"Hi! I'm megaduck2010!\"\n",
    "print(re.findall(p, text))"
   ]
  },
  {
   "cell_type": "markdown",
   "metadata": {},
   "source": [
    "***"
   ]
  },
  {
   "cell_type": "markdown",
   "metadata": {},
   "source": [
    "Implement a pattern, that matches an e-mail address. In this problem an e-mail address is expected to have several properties:\n",
    "\n",
    "- It has \"@\" symbol\n",
    "- Local-part (before \"@\"-symbol) is alphanumeric, but also can contain symbols \"_\", \"-\" and \".\"\n",
    "- It has a domain part (after \"@\"-symbol). The domain part may consists of several literal dot-separated parts.\n",
    "\n",
    "**Example.** A pattern should match all e-mail addresses in a string \"Hi! I am writing to you from example@example.com to hello@bye.com.org\"."
   ]
  },
  {
   "cell_type": "code",
   "execution_count": 17,
   "metadata": {},
   "outputs": [
    {
     "name": "stdout",
     "output_type": "stream",
     "text": [
      "[('example@example.com', ''), ('hello@bye.com', '.org')]\n"
     ]
    }
   ],
   "source": [
    "p = re.compile('([a-zA-Z0-9_-]+@[a-z]+\\.[a-z]+)(\\.[a-z]+)*')\n",
    "text = \"Hi! I am writing to you from example@example.com to hello@bye.com.org\"\n",
    "print(re.findall(p, text))"
   ]
  },
  {
   "cell_type": "markdown",
   "metadata": {},
   "source": [
    "***"
   ]
  },
  {
   "cell_type": "markdown",
   "metadata": {},
   "source": [
    "Implement a pattern, that matches an IP address (of IPv4 form). IP address has several properties:\n",
    " - There are 4 dot-separated numerical parts.\n",
    " - Numerical part can be any number from 0 to 255.\n",
    "\n",
    "**Example.** A pattern should match all valid IP addresses: \"These are 0.0.0.1, 169.255.0.0 and 256.256.0.0 \""
   ]
  },
  {
   "cell_type": "code",
   "execution_count": 18,
   "metadata": {},
   "outputs": [
    {
     "name": "stdout",
     "output_type": "stream",
     "text": [
      "[]\n"
     ]
    }
   ],
   "source": [
    "p = re.compile('((25[0-5]|2[0-4][0-9]|1[0-9][0-9]|[1-9]?[0-9])\\.){3}(25[0-5]|2[0-4][0-9]|1[0-9][0-9]|[1-9]?[0-9])$')\n",
    "text = \"These are 0.0.0.1, 169.255.0.0 and 256.256.0.0 \"\n",
    "print(re.findall(p, text))"
   ]
  },
  {
   "cell_type": "markdown",
   "metadata": {},
   "source": [
    "***"
   ]
  },
  {
   "cell_type": "markdown",
   "metadata": {},
   "source": [
    "Implement a pattern, that matches HTTP-links. A link has several properties:\n",
    "\n",
    "- It starts with \"http://\" or \"https://\"\n",
    "\n",
    "- It has a domain part. Domain part can contain alphanumeric characters and a hyphen '-'. There are at least two domain parts in a proper link (www.google.com, hello123.com.org, 2000.com).\n",
    "\n",
    "- It may have a relative-path part after the domain part. A relative path is forward-slash \"/\"-separated alphanumeric (also may include dots '.', hyphens '-' and underscore '_') sequence of chars. (/page.html, /some/path, /another/path/)\n",
    "\n",
    "**Example.** A pattern should match all valid HTTP-links: \"Welcome to https://wel.com/e, stranger!\"."
   ]
  },
  {
   "cell_type": "code",
   "execution_count": 19,
   "metadata": {},
   "outputs": [
    {
     "name": "stdout",
     "output_type": "stream",
     "text": [
      "[('https', 'wel.com', '/e'), ('http', 'hello123.com.org', '/e'), ('http', '2000.com.adv.org', '/e/23/dd')]\n"
     ]
    }
   ],
   "source": [
    "p = re.compile(r'(http|ftp|https):\\/\\/([\\w_-]+(?:(?:\\.[\\w_-]+)+))([\\w.,@?^=%&:\\/~+#-]*[\\w@?^=%&\\/~+#-])')\n",
    "text = \"Welcome to https://wel.com/e, stranger    http://hello123.com.org/e!  http://2000.com.adv.org/e/23/dd\"\n",
    "print(re.findall(p, text))"
   ]
  },
  {
   "cell_type": "code",
   "execution_count": null,
   "metadata": {},
   "outputs": [],
   "source": []
  }
 ],
 "metadata": {
  "kernelspec": {
   "display_name": "Python 3",
   "language": "python",
   "name": "python3"
  },
  "language_info": {
   "codemirror_mode": {
    "name": "ipython",
    "version": 3
   },
   "file_extension": ".py",
   "mimetype": "text/x-python",
   "name": "python",
   "nbconvert_exporter": "python",
   "pygments_lexer": "ipython3",
   "version": "3.8.10"
  }
 },
 "nbformat": 4,
 "nbformat_minor": 4
}
