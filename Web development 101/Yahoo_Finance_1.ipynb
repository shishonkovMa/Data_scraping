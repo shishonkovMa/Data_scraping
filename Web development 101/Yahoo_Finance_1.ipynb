{
 "cells": [
  {
   "cell_type": "markdown",
   "metadata": {},
   "source": [
    "# Yahoo Finance project - 1 (getting data)"
   ]
  },
  {
   "cell_type": "code",
   "execution_count": 1,
   "metadata": {},
   "outputs": [],
   "source": [
    "url = 'https://finance.yahoo.com/quote/WEX/history?period1=1587254400&period2=1592524800&interval=1d&filter=history&frequency=1d&includeAdjustedClose=true'"
   ]
  },
  {
   "cell_type": "code",
   "execution_count": 2,
   "metadata": {},
   "outputs": [],
   "source": [
    "period1=1587254400"
   ]
  },
  {
   "cell_type": "code",
   "execution_count": 43,
   "metadata": {},
   "outputs": [],
   "source": [
    "import pandas as pd\n",
    "import requests\n",
    "import numpy as np\n",
    "from bs4 import BeautifulSoup"
   ]
  },
  {
   "cell_type": "code",
   "execution_count": 4,
   "metadata": {},
   "outputs": [
    {
     "data": {
      "text/plain": [
       "Timestamp('2020-04-19 00:00:00')"
      ]
     },
     "execution_count": 4,
     "metadata": {},
     "output_type": "execute_result"
    }
   ],
   "source": [
    "pd.to_datetime(period1, unit='s')"
   ]
  },
  {
   "cell_type": "code",
   "execution_count": 46,
   "metadata": {},
   "outputs": [],
   "source": [
    "def get_prices(ticker):\n",
    "    end = pd.Timestamp.now()\n",
    "    start = end - pd.Timedelta(31, \"D\")\n",
    "    \n",
    "    period1 = (start - pd.Timestamp('1970-01-1'))\\\n",
    "                    // pd.Timedelta('1s')\n",
    "\n",
    "    period2 = (end - pd.Timestamp('1970-01-1'))\\\n",
    "                    // pd.Timedelta('1s')\n",
    "\n",
    "    url = 'https://finance.yahoo.com/'\\\n",
    "           + f'quote/{ticker}/history?'\\\n",
    "           + f'period1={period1}&period2={period2}'\\\n",
    "           + '&interval=1d&filter=history&frequency=1d&includeAdjustedClose=true'\n",
    "    headers = {\n",
    "            'User-Agent': 'My User Agent 1.0',\n",
    "            'From': 'email' \n",
    "        }\n",
    "    response = requests.get(url, headers=headers)\n",
    "    assert response.status_code == 200\n",
    "    \n",
    "    soup = BeautifulSoup(response.text)\n",
    "    prices = []\n",
    "    for row in soup.find_all('table', attrs={'data-test': 'historical-prices'})[0].find_all('tr')[1:-1]:\n",
    "        try:\n",
    "            prices.append(float(row.find_all('td')[1].text))\n",
    "        except:\n",
    "            pass\n",
    "    prices = prices[::-1]\n",
    "    prices = np.array(prices)\n",
    "    prices = ((prices / prices[0]) - 1) * 100\n",
    "    \n",
    "    return prices"
   ]
  },
  {
   "cell_type": "code",
   "execution_count": 47,
   "metadata": {},
   "outputs": [
    {
     "data": {
      "text/plain": [
       "array([ 0.        , -0.2039555 , -2.73176761, -4.77750309, -4.1223733 ,\n",
       "       -4.54264524, -3.92459827, -2.96662546, -2.41038319, -2.24351051,\n",
       "       -3.31273177, -4.75278121, -5.90852905, -3.25092707, -0.32756489,\n",
       "       -0.03708282,  2.73794808,  2.7750309 ,  2.75030902,  2.32385661,\n",
       "        2.97280593])"
      ]
     },
     "execution_count": 47,
     "metadata": {},
     "output_type": "execute_result"
    }
   ],
   "source": [
    "prices = get_prices('WEX')\n",
    "prices"
   ]
  },
  {
   "cell_type": "code",
   "execution_count": null,
   "metadata": {},
   "outputs": [],
   "source": []
  }
 ],
 "metadata": {
  "kernelspec": {
   "display_name": "Python 3",
   "language": "python",
   "name": "python3"
  },
  "language_info": {
   "codemirror_mode": {
    "name": "ipython",
    "version": 3
   },
   "file_extension": ".py",
   "mimetype": "text/x-python",
   "name": "python",
   "nbconvert_exporter": "python",
   "pygments_lexer": "ipython3",
   "version": "3.8.10"
  }
 },
 "nbformat": 4,
 "nbformat_minor": 4
}
