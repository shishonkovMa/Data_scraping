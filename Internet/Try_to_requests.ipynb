{
 "cells": [
  {
   "cell_type": "markdown",
   "metadata": {},
   "source": [
    "# Give a try to requests module"
   ]
  },
  {
   "cell_type": "markdown",
   "metadata": {},
   "source": [
    "This is a demo assignment to make sure, that we can acomplish python requests basic operations: to send a GET-request and to somehow process it."
   ]
  },
  {
   "cell_type": "markdown",
   "metadata": {},
   "source": [
    "### Practice"
   ]
  },
  {
   "cell_type": "code",
   "execution_count": 1,
   "metadata": {},
   "outputs": [],
   "source": [
    "import requests"
   ]
  },
  {
   "cell_type": "markdown",
   "metadata": {},
   "source": [
    "We are going to use method *get* from python requests-module to send GET-request to https://en.wikipedia.org. Remember, to make sure that the request was successfull, we should check if a status code of a response is equal to 200."
   ]
  },
  {
   "cell_type": "code",
   "execution_count": 2,
   "metadata": {},
   "outputs": [
    {
     "name": "stdout",
     "output_type": "stream",
     "text": [
      "200\n"
     ]
    }
   ],
   "source": [
    "response = requests.get('https://en.wikipedia.org')\n",
    "print(response.status_code)"
   ]
  },
  {
   "cell_type": "markdown",
   "metadata": {},
   "source": [
    "<br><br>\n",
    "**Question 1.** What is a statuse code of a response to a successfull HTTP-request?"
   ]
  },
  {
   "cell_type": "code",
   "execution_count": 3,
   "metadata": {},
   "outputs": [],
   "source": [
    "answer_part_1 = response.status_code"
   ]
  },
  {
   "cell_type": "markdown",
   "metadata": {},
   "source": [
    "Now since we got a respone, we can look at the source code of a page."
   ]
  },
  {
   "cell_type": "code",
   "execution_count": 4,
   "metadata": {},
   "outputs": [
    {
     "name": "stdout",
     "output_type": "stream",
     "text": [
      "<!DOCTYPE html>\n",
      "<html class=\"client-nojs\" lang=\"en\" dir=\"ltr\">\n",
      "<head>\n",
      "<meta charset=\"UTF-8\"/>\n",
      "<title>Wikipedia, the free encyclopedia</title>\n",
      "<script>\n"
     ]
    }
   ],
   "source": [
    "print(response.text[:150])"
   ]
  },
  {
   "cell_type": "markdown",
   "metadata": {},
   "source": [
    "**Question 2.** How many characters are in the page's source code?"
   ]
  },
  {
   "cell_type": "code",
   "execution_count": 5,
   "metadata": {},
   "outputs": [
    {
     "data": {
      "text/plain": [
       "86169"
      ]
     },
     "execution_count": 5,
     "metadata": {},
     "output_type": "execute_result"
    }
   ],
   "source": [
    "answer_part_2 = len(response.text)\n",
    "answer_part_2"
   ]
  },
  {
   "cell_type": "markdown",
   "metadata": {},
   "source": [
    "Now we can inspect the source code. For example, we could use regular expressions or python string methods to find information, that we want.\n",
    "\n",
    "For example, let's try to find all `<a>`-tags in the page."
   ]
  },
  {
   "cell_type": "code",
   "execution_count": 6,
   "metadata": {},
   "outputs": [],
   "source": [
    "import re"
   ]
  },
  {
   "cell_type": "code",
   "execution_count": 7,
   "metadata": {},
   "outputs": [],
   "source": [
    "p = re.compile('<\\s*a[^>]*>(.*?)<\\s*/\\s*a>')"
   ]
  },
  {
   "cell_type": "code",
   "execution_count": 8,
   "metadata": {},
   "outputs": [],
   "source": [
    "result = [match.group() for match in re.finditer(p, response.text)]"
   ]
  },
  {
   "cell_type": "code",
   "execution_count": 9,
   "metadata": {},
   "outputs": [
    {
     "data": {
      "text/plain": [
       "['<a id=\"top\"></a>',\n",
       " '<a class=\"mw-jump-link\" href=\"#mw-head\">Jump to navigation</a>',\n",
       " '<a class=\"mw-jump-link\" href=\"#searchInput\">Jump to search</a>',\n",
       " '<a href=\"/wiki/Wikipedia\" title=\"Wikipedia\">Wikipedia</a>',\n",
       " '<a href=\"/wiki/Free_content\" title=\"Free content\">free</a>',\n",
       " '<a href=\"/wiki/Encyclopedia\" title=\"Encyclopedia\">encyclopedia</a>',\n",
       " '<a href=\"/wiki/Help:Introduction_to_Wikipedia\" title=\"Help:Introduction to Wikipedia\">anyone can edit</a>',\n",
       " '<a href=\"/wiki/Special:Statistics\" title=\"Special:Statistics\">6,524,895</a>',\n",
       " '<a href=\"/wiki/English_language\" title=\"English language\">English</a>',\n",
       " '<a href=\"/wiki/File:Will_P._Brady_(1906)_cropped.jpg\" class=\"image\" title=\"Will P. Brady\"><img alt=\"Will P. Brady\" src=\"//upload.wikimedia.org/wikipedia/commons/thumb/e/ea/Will_P._Brady_%281906%29_cropped.jpg/121px-Will_P._Brady_%281906%29_cropped.jpg\" decoding=\"async\" width=\"121\" height=\"161\" srcset=\"//upload.wikimedia.org/wikipedia/commons/thumb/e/ea/Will_P._Brady_%281906%29_cropped.jpg/182px-Will_P._Brady_%281906%29_cropped.jpg 1.5x, //upload.wikimedia.org/wikipedia/commons/thumb/e/ea/Will_P._Brady_%281906%29_cropped.jpg/242px-Will_P._Brady_%281906%29_cropped.jpg 2x\" data-file-width=\"266\" data-file-height=\"355\" /></a>']"
      ]
     },
     "execution_count": 9,
     "metadata": {},
     "output_type": "execute_result"
    }
   ],
   "source": [
    "result[:10]"
   ]
  },
  {
   "cell_type": "markdown",
   "metadata": {},
   "source": [
    "**Question 3.** How many `<a>`-tags are in the page?"
   ]
  },
  {
   "cell_type": "code",
   "execution_count": 10,
   "metadata": {},
   "outputs": [
    {
     "data": {
      "text/plain": [
       "331"
      ]
     },
     "execution_count": 10,
     "metadata": {},
     "output_type": "execute_result"
    }
   ],
   "source": [
    "answer_part_3 = len(result)\n",
    "answer_part_3"
   ]
  },
  {
   "cell_type": "markdown",
   "metadata": {},
   "source": [
    "**Question 4.** How many headers of level 2 (`<h2>`-elements) are in the page?"
   ]
  },
  {
   "cell_type": "code",
   "execution_count": 11,
   "metadata": {},
   "outputs": [
    {
     "data": {
      "text/plain": [
       "10"
      ]
     },
     "execution_count": 11,
     "metadata": {},
     "output_type": "execute_result"
    }
   ],
   "source": [
    "p = re.compile('<\\s*h2[^>]*>(.*?)<\\s*/\\s*h2>')\n",
    "result = [match.group() for match in re.finditer(p, response.text)]\n",
    "answer_part_4 = len(result)\n",
    "answer_part_4"
   ]
  }
 ],
 "metadata": {
  "kernelspec": {
   "display_name": "Python 3",
   "language": "python",
   "name": "python3"
  },
  "language_info": {
   "codemirror_mode": {
    "name": "ipython",
    "version": 3
   },
   "file_extension": ".py",
   "mimetype": "text/x-python",
   "name": "python",
   "nbconvert_exporter": "python",
   "pygments_lexer": "ipython3",
   "version": "3.8.10"
  }
 },
 "nbformat": 4,
 "nbformat_minor": 4
}
