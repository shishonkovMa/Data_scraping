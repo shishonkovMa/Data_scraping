{
 "cells": [
  {
   "cell_type": "markdown",
   "metadata": {},
   "source": [
    "### Some info\n",
    "\n",
    "If we want to find \"oranges\":\n",
    " - From address bar: https://www.google.com/search?q=oranges&oq=oranges&aqs=chrome..69i57j46i512j46i175i199i512j0i512l3j46i512j0i512l2j46i512.1364j0j7&sourceid=chrome&ie=UTF-8\n",
    " - Not from address bar: https://www.google.com/search?q=oranges&newwindow=1&sxsrf=ALiCzsZdZQq0omsjBtk8krdievRlSwQFeA%3A1656341525856&ei=FcS5YobvM860rgTunq3ICQ&ved=0ahUKEwjGzZmC8c34AhVOmosKHW5PC5kQ4dUDCA4&uact=5&oq=oranges&gs_lcp=Cgdnd3Mtd2l6EAMyBAgjECcyDQguELEDEMcBEKMCEEMyEQguEIAEELEDEIMBEMcBEK8BMgQIABBDMgsIABCABBCxAxCDATIFCAAQgAQyCwgAEIAEELEDEIMBMgUIABCABDIRCC4QgAQQsQMQgwEQxwEQrwEyDgguEIAEELEDEIMBENQCOgQIABBHOggIABCABBCxAzoLCC4QgAQQxwEQowI6DgguEIAEELEDEMcBEKMCOhEILhCABBCxAxCDARDHARDRAzoRCC4QgAQQsQMQxwEQowIQ1AJKBAhBGABKBAhGGABQ_ANYoAxgzQ1oAHAEeACAAaUEiAGoEZIBCTItMi4xLjIuMZgBAKABAcgBCMABAQ&sclient=gws-wiz\n",
    "\n",
    "\n",
    "q - what we find\n",
    "\n",
    "**Other examples:**\n",
    " - https://www.amazon.com/s?k=best+stuff+in+store&crid=273119XT0Y6V1&sprefix=best+stuff+in+store%2Caps%2C279&ref=nb_sb_noss_2\n",
    "\n",
    " - https://en.wikipedia.org/w/index.php?search=find+me+something+cool&title=Special%3ASearch&go=Go&ns0=1\n",
    "\n",
    "?key1=value1&key2=value2"
   ]
  },
  {
   "cell_type": "code",
   "execution_count": 1,
   "metadata": {},
   "outputs": [],
   "source": [
    "import requests"
   ]
  },
  {
   "cell_type": "markdown",
   "metadata": {},
   "source": [
    "### Use a direct link"
   ]
  },
  {
   "cell_type": "code",
   "execution_count": 2,
   "metadata": {},
   "outputs": [],
   "source": [
    "url = 'https://en.wikipedia.org/w/index.php?search=find+me+something+cool&title=Special%3ASearch&go=Go&ns0=1'\n",
    "response = requests.get(url)"
   ]
  },
  {
   "cell_type": "code",
   "execution_count": 4,
   "metadata": {},
   "outputs": [
    {
     "data": {
      "text/plain": [
       "'https://en.wikipedia.org/w/index.php?search=find+me+something+cool&title=Special%3ASearch&go=Go&ns0=1'"
      ]
     },
     "execution_count": 4,
     "metadata": {},
     "output_type": "execute_result"
    }
   ],
   "source": [
    "response.request.url"
   ]
  },
  {
   "cell_type": "markdown",
   "metadata": {},
   "source": [
    "### If we want to manually enter url parameters"
   ]
  },
  {
   "cell_type": "code",
   "execution_count": 10,
   "metadata": {},
   "outputs": [
    {
     "data": {
      "text/plain": [
       "'https://en.wikipedia.org/w/index.php?search=find+me+something+cool&ns0=1'"
      ]
     },
     "execution_count": 10,
     "metadata": {},
     "output_type": "execute_result"
    }
   ],
   "source": [
    "url = 'https://en.wikipedia.org/w/index.php'\n",
    "\n",
    "params = {'search': 'find me something cool'}\n",
    "\n",
    "response = requests.get(url, params=params)\n",
    "\n",
    "response.request.url"
   ]
  },
  {
   "cell_type": "code",
   "execution_count": 11,
   "metadata": {},
   "outputs": [
    {
     "data": {
      "text/plain": [
       "200"
      ]
     },
     "execution_count": 11,
     "metadata": {},
     "output_type": "execute_result"
    }
   ],
   "source": [
    "response.status_code"
   ]
  },
  {
   "cell_type": "code",
   "execution_count": null,
   "metadata": {},
   "outputs": [],
   "source": []
  }
 ],
 "metadata": {
  "kernelspec": {
   "display_name": "Python 3",
   "language": "python",
   "name": "python3"
  },
  "language_info": {
   "codemirror_mode": {
    "name": "ipython",
    "version": 3
   },
   "file_extension": ".py",
   "mimetype": "text/x-python",
   "name": "python",
   "nbconvert_exporter": "python",
   "pygments_lexer": "ipython3",
   "version": "3.8.10"
  }
 },
 "nbformat": 4,
 "nbformat_minor": 4
}
