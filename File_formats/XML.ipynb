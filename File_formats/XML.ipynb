{
 "cells": [
  {
   "cell_type": "code",
   "execution_count": 1,
   "metadata": {},
   "outputs": [],
   "source": [
    "# pip install tabula-py"
   ]
  },
  {
   "cell_type": "code",
   "execution_count": 2,
   "metadata": {},
   "outputs": [],
   "source": [
    "# pip install PyMuPDF"
   ]
  },
  {
   "cell_type": "code",
   "execution_count": 3,
   "metadata": {},
   "outputs": [],
   "source": [
    "# import tabula\n",
    "# import fitz"
   ]
  },
  {
   "cell_type": "code",
   "execution_count": 4,
   "metadata": {},
   "outputs": [],
   "source": [
    "import xml.etree.ElementTree as ET"
   ]
  },
  {
   "cell_type": "code",
   "execution_count": 19,
   "metadata": {},
   "outputs": [
    {
     "name": "stdout",
     "output_type": "stream",
     "text": [
      "<class 'xml.etree.ElementTree.ElementTree'>\n"
     ]
    }
   ],
   "source": [
    "xml_from_file = ET.parse('xml_example_1.xml')\n",
    "print(type(xml_from_file))\n",
    "root = xml_from_file.getroot()"
   ]
  },
  {
   "cell_type": "code",
   "execution_count": 6,
   "metadata": {},
   "outputs": [],
   "source": [
    "xml_string = '''<mail>\n",
    "    <to>Mark</to>\n",
    "    <from>Jani</from>\n",
    "    <heading>Reminder from Jani</heading>\n",
    "    <body>Hi, Mark! Remember we are meeting tomorrow at 5.</body>\n",
    "    </mail>\n",
    "    '''"
   ]
  },
  {
   "cell_type": "code",
   "execution_count": 7,
   "metadata": {},
   "outputs": [
    {
     "name": "stdout",
     "output_type": "stream",
     "text": [
      "<mail>\n",
      "    <to>Mark</to>\n",
      "    <from>Jani</from>\n",
      "    <heading>Reminder from Jani</heading>\n",
      "    <body>Hi, Mark! Remember we are meeting tomorrow at 5.</body>\n",
      "    </mail>\n",
      "    \n"
     ]
    }
   ],
   "source": [
    "print(xml_string)"
   ]
  },
  {
   "cell_type": "code",
   "execution_count": 8,
   "metadata": {},
   "outputs": [],
   "source": [
    "xml_from_string = ET.fromstring(xml_string)"
   ]
  },
  {
   "cell_type": "code",
   "execution_count": 9,
   "metadata": {},
   "outputs": [
    {
     "data": {
      "text/plain": [
       "<Element 'mail' at 0x7f7e114dbcc0>"
      ]
     },
     "execution_count": 9,
     "metadata": {},
     "output_type": "execute_result"
    }
   ],
   "source": [
    "xml_from_string"
   ]
  },
  {
   "cell_type": "code",
   "execution_count": 20,
   "metadata": {},
   "outputs": [
    {
     "name": "stdout",
     "output_type": "stream",
     "text": [
      "mail\n",
      "{}\n",
      "4\n"
     ]
    }
   ],
   "source": [
    "print(root.tag)\n",
    "print(root.attrib)\n",
    "print(len(root))"
   ]
  },
  {
   "cell_type": "code",
   "execution_count": 14,
   "metadata": {},
   "outputs": [
    {
     "name": "stdout",
     "output_type": "stream",
     "text": [
      "to {}\n",
      "from {}\n",
      "heading {}\n",
      "body {}\n"
     ]
    }
   ],
   "source": [
    "for child in xml_from_string:\n",
    "    print(child.tag, child.attrib)"
   ]
  },
  {
   "cell_type": "code",
   "execution_count": 16,
   "metadata": {},
   "outputs": [
    {
     "data": {
      "text/plain": [
       "'Reminder from Jani'"
      ]
     },
     "execution_count": 16,
     "metadata": {},
     "output_type": "execute_result"
    }
   ],
   "source": [
    "xml_from_string[2].text"
   ]
  },
  {
   "cell_type": "code",
   "execution_count": 21,
   "metadata": {},
   "outputs": [],
   "source": [
    "import requests"
   ]
  },
  {
   "cell_type": "code",
   "execution_count": 22,
   "metadata": {},
   "outputs": [],
   "source": [
    "response = requests.get('http://iss.moex.com/iss/history/engines/stock/markets/shares/boards/tqbr/securities.xml')"
   ]
  },
  {
   "cell_type": "code",
   "execution_count": 23,
   "metadata": {},
   "outputs": [],
   "source": [
    "shares = ET.fromstring(response.content)"
   ]
  },
  {
   "cell_type": "code",
   "execution_count": 26,
   "metadata": {},
   "outputs": [
    {
     "data": {
      "text/plain": [
       "{'id': 'history'}"
      ]
     },
     "execution_count": 26,
     "metadata": {},
     "output_type": "execute_result"
    }
   ],
   "source": [
    "shares[0].attrib"
   ]
  },
  {
   "cell_type": "code",
   "execution_count": 24,
   "metadata": {},
   "outputs": [
    {
     "name": "stdout",
     "output_type": "stream",
     "text": [
      "column {'name': 'BOARDID', 'type': 'string', 'bytes': '12', 'max_size': '0'}\n",
      "column {'name': 'TRADEDATE', 'type': 'date', 'bytes': '10', 'max_size': '0'}\n",
      "column {'name': 'SHORTNAME', 'type': 'string', 'bytes': '189', 'max_size': '0'}\n",
      "column {'name': 'SECID', 'type': 'string', 'bytes': '36', 'max_size': '0'}\n",
      "column {'name': 'NUMTRADES', 'type': 'double'}\n",
      "column {'name': 'VALUE', 'type': 'double'}\n",
      "column {'name': 'OPEN', 'type': 'double'}\n",
      "column {'name': 'LOW', 'type': 'double'}\n",
      "column {'name': 'HIGH', 'type': 'double'}\n",
      "column {'name': 'LEGALCLOSEPRICE', 'type': 'double'}\n",
      "column {'name': 'WAPRICE', 'type': 'double'}\n",
      "column {'name': 'CLOSE', 'type': 'double'}\n",
      "column {'name': 'VOLUME', 'type': 'double'}\n",
      "column {'name': 'MARKETPRICE2', 'type': 'double'}\n",
      "column {'name': 'MARKETPRICE3', 'type': 'double'}\n",
      "column {'name': 'ADMITTEDQUOTE', 'type': 'double'}\n",
      "column {'name': 'MP2VALTRD', 'type': 'double'}\n",
      "column {'name': 'MARKETPRICE3TRADESVALUE', 'type': 'double'}\n",
      "column {'name': 'ADMITTEDVALUE', 'type': 'double'}\n",
      "column {'name': 'WAVAL', 'type': 'double'}\n",
      "column {'name': 'TRADINGSESSION', 'type': 'int32'}\n",
      "column {'name': 'INDEX', 'type': 'int64'}\n",
      "column {'name': 'TOTAL', 'type': 'int64'}\n",
      "column {'name': 'PAGESIZE', 'type': 'int64'}\n"
     ]
    }
   ],
   "source": [
    "for column in shares.iter('column'):\n",
    "    print(column.tag, column.attrib)"
   ]
  },
  {
   "cell_type": "code",
   "execution_count": 25,
   "metadata": {},
   "outputs": [
    {
     "data": {
      "text/plain": [
       "[<Element 'row' at 0x7f7e10a03950>,\n",
       " <Element 'row' at 0x7f7e10a039a0>,\n",
       " <Element 'row' at 0x7f7e10a039f0>,\n",
       " <Element 'row' at 0x7f7e10a03a40>,\n",
       " <Element 'row' at 0x7f7e10a03a90>,\n",
       " <Element 'row' at 0x7f7e10a03ae0>,\n",
       " <Element 'row' at 0x7f7e10a03b30>,\n",
       " <Element 'row' at 0x7f7e10a03b80>,\n",
       " <Element 'row' at 0x7f7e10a03bd0>,\n",
       " <Element 'row' at 0x7f7e10a03c20>]"
      ]
     },
     "execution_count": 25,
     "metadata": {},
     "output_type": "execute_result"
    }
   ],
   "source": [
    "shares.findall('data/rows/row')[:10]"
   ]
  },
  {
   "cell_type": "code",
   "execution_count": 27,
   "metadata": {},
   "outputs": [
    {
     "name": "stdout",
     "output_type": "stream",
     "text": [
      "168.5\n",
      "\n",
      "12.777\n",
      "26.74\n",
      "850.8\n",
      "16086\n",
      "70.1\n",
      "20.06\n",
      "12.34\n",
      "489.5\n",
      "5.72\n",
      "0.743\n",
      "850\n",
      "1025\n",
      "769\n",
      "2305\n",
      "\n",
      "6.94\n",
      "10.55\n",
      "861\n",
      "66\n",
      "13.5\n",
      "5.461\n",
      "34.6\n",
      "5480\n",
      "712\n",
      "3200\n",
      "340\n",
      "10.5\n",
      "8.94\n",
      "\n",
      "8.08\n",
      "66.5\n",
      "0.946\n",
      "1850\n",
      "1670\n",
      "4.96\n",
      "156.5\n",
      "\n",
      "590\n",
      "0.4384\n",
      "55.82\n",
      "0.0883\n",
      "31.51\n",
      "838\n",
      "317.2\n",
      "38.45\n",
      "338\n",
      "250\n",
      "\n",
      "298\n",
      "\n",
      "\n",
      "2804\n",
      "690.5\n",
      "355\n",
      "349.5\n",
      "20320\n",
      "23.05\n",
      "\n",
      "1082\n",
      "\n",
      "8.57\n",
      "128.5\n",
      "0.8562\n",
      "2294\n",
      "2226\n",
      "1261\n",
      "3.255\n",
      "\n",
      "25.68\n",
      "67.1\n",
      "15.95\n",
      "10.66\n",
      "397\n",
      "424.2\n",
      "163\n",
      "0.1675\n",
      "0.32\n",
      "38.8\n",
      "37.2\n",
      "8.93\n",
      "98\n",
      "863\n",
      "\n",
      "37400\n",
      "8550\n",
      "11700\n",
      "\n",
      "8.49\n",
      "304.5\n",
      "243\n",
      "6.87\n",
      "7.26\n",
      "\n",
      "0.568\n",
      "\n",
      "59\n",
      "0.01669\n",
      "\n"
     ]
    }
   ],
   "source": [
    "for el in shares.findall('data[1]/rows/row'):\n",
    "    print (el.attrib['OPEN'])"
   ]
  },
  {
   "cell_type": "markdown",
   "metadata": {},
   "source": [
    "# Broken XML file"
   ]
  },
  {
   "cell_type": "code",
   "execution_count": 28,
   "metadata": {},
   "outputs": [],
   "source": [
    "xml_string = '''<mail>\n",
    "    <to>Mark</to>\n",
    "    <from>Jani</from>\n",
    "    <heading>Reminder from Jani</heading>\n",
    "    <body>Hi, Mark! Remember we are meeting tomorrow at 5.</body>\n",
    "    '''"
   ]
  },
  {
   "cell_type": "code",
   "execution_count": 29,
   "metadata": {},
   "outputs": [
    {
     "ename": "ParseError",
     "evalue": "no element found: line 6, column 4 (<string>)",
     "output_type": "error",
     "traceback": [
      "Traceback \u001b[0;36m(most recent call last)\u001b[0m:\n",
      "  File \u001b[1;32m\"/usr/lib/python3/dist-packages/IPython/core/interactiveshell.py\"\u001b[0m, line \u001b[1;32m3331\u001b[0m, in \u001b[1;35mrun_code\u001b[0m\n    exec(code_obj, self.user_global_ns, self.user_ns)\n",
      "  File \u001b[1;32m\"<ipython-input-29-55c92a44e8e2>\"\u001b[0m, line \u001b[1;32m1\u001b[0m, in \u001b[1;35m<module>\u001b[0m\n    xml = ET.fromstring(xml_string)\n",
      "\u001b[0;36m  File \u001b[0;32m\"/usr/lib/python3.8/xml/etree/ElementTree.py\"\u001b[0;36m, line \u001b[0;32m1321\u001b[0;36m, in \u001b[0;35mXML\u001b[0;36m\u001b[0m\n\u001b[0;31m    return parser.close()\u001b[0m\n",
      "\u001b[0;36m  File \u001b[0;32m\"<string>\"\u001b[0;36m, line \u001b[0;32munknown\u001b[0m\n\u001b[0;31mParseError\u001b[0m\u001b[0;31m:\u001b[0m no element found: line 6, column 4\n"
     ]
    }
   ],
   "source": [
    "xml = ET.fromstring(xml_string)"
   ]
  },
  {
   "cell_type": "markdown",
   "metadata": {},
   "source": [
    "Then what we do"
   ]
  },
  {
   "cell_type": "code",
   "execution_count": 32,
   "metadata": {},
   "outputs": [],
   "source": [
    "import lxml.etree"
   ]
  },
  {
   "cell_type": "code",
   "execution_count": 33,
   "metadata": {},
   "outputs": [],
   "source": [
    "parser = lxml.etree.XMLParser(recover=True)"
   ]
  },
  {
   "cell_type": "code",
   "execution_count": 34,
   "metadata": {},
   "outputs": [],
   "source": [
    "xml = lxml.etree.fromstring(xml_string, parser)"
   ]
  },
  {
   "cell_type": "code",
   "execution_count": 35,
   "metadata": {},
   "outputs": [
    {
     "data": {
      "text/plain": [
       "<Element mail at 0x7f7e10988a00>"
      ]
     },
     "execution_count": 35,
     "metadata": {},
     "output_type": "execute_result"
    }
   ],
   "source": [
    "xml"
   ]
  },
  {
   "cell_type": "code",
   "execution_count": 36,
   "metadata": {},
   "outputs": [
    {
     "data": {
      "text/plain": [
       "4"
      ]
     },
     "execution_count": 36,
     "metadata": {},
     "output_type": "execute_result"
    }
   ],
   "source": [
    "len(xml)"
   ]
  },
  {
   "cell_type": "code",
   "execution_count": 37,
   "metadata": {},
   "outputs": [
    {
     "name": "stdout",
     "output_type": "stream",
     "text": [
      "to\n",
      "from\n",
      "heading\n",
      "body\n"
     ]
    }
   ],
   "source": [
    "for child in xml:\n",
    "    print(child.tag)"
   ]
  },
  {
   "cell_type": "code",
   "execution_count": null,
   "metadata": {},
   "outputs": [],
   "source": []
  }
 ],
 "metadata": {
  "kernelspec": {
   "display_name": "Python 3",
   "language": "python",
   "name": "python3"
  },
  "language_info": {
   "codemirror_mode": {
    "name": "ipython",
    "version": 3
   },
   "file_extension": ".py",
   "mimetype": "text/x-python",
   "name": "python",
   "nbconvert_exporter": "python",
   "pygments_lexer": "ipython3",
   "version": "3.8.10"
  }
 },
 "nbformat": 4,
 "nbformat_minor": 4
}
